{
 "cells": [
  {
   "cell_type": "markdown",
   "id": "19313896-5514-438c-aff1-e7251cc694d0",
   "metadata": {},
   "source": [
    "### Q.1) Create 2 lists from a given list where \n",
    "### 1st list will contain all the odd numbers from the original list and\n",
    "### the 2nd one will contain all the even numbers\n",
    "L = [1,2,3,4,5,6]"
   ]
  },
  {
   "cell_type": "code",
   "execution_count": 2,
   "id": "929c3209-1941-425f-be66-5468b8a0a875",
   "metadata": {},
   "outputs": [
    {
     "name": "stdout",
     "output_type": "stream",
     "text": [
      "Odd numbers are:[1, 3, 5] \n",
      "Even numbers are:[0, 2, 4, 6]\n"
     ]
    }
   ],
   "source": [
    "l=[1,2,3,4,5,6]\n",
    "on=[]\n",
    "en=[]\n",
    "for i in range(0,7):\n",
    "    if i%2==0:\n",
    "        en.append(i)\n",
    "        \n",
    "    else: \n",
    "        on.append(i)\n",
    "print(\"Odd numbers are:{0} \".format(on))        \n",
    "print(\"Even numbers are:{0}\".format(en))"
   ]
  },
  {
   "cell_type": "markdown",
   "id": "2760da7b-7aba-4a41-a69a-6a70da5e8eeb",
   "metadata": {},
   "source": [
    "### Q2) How to take list as input from user"
   ]
  },
  {
   "cell_type": "code",
   "execution_count": 3,
   "id": "23c7e015-1a72-49f9-be7f-75abf6856b24",
   "metadata": {},
   "outputs": [
    {
     "name": "stdout",
     "output_type": "stream",
     "text": [
      "Enter length of list: \n"
     ]
    },
    {
     "name": "stdin",
     "output_type": "stream",
     "text": [
      " 5\n",
      " 2\n",
      " 3\n",
      " 4\n",
      " 4\n",
      " 5\n"
     ]
    },
    {
     "name": "stdout",
     "output_type": "stream",
     "text": [
      "[2, 3, 4, 4, 5]\n"
     ]
    }
   ],
   "source": [
    "x=[] #empty list\n",
    "print(\"Enter length of list: \")\n",
    "n=int(input())\n",
    "for i in range(n):\n",
    "    x.append(int(input()))\n",
    "print(x)"
   ]
  },
  {
   "cell_type": "markdown",
   "id": "dbe701c5-ebe1-4914-8604-33c1bae5de4b",
   "metadata": {},
   "source": [
    "### Q3)Write a program to merge 2 list without using the + operator\n",
    "L1 = [1,2,3,4]    \n",
    "L2 = [5,6,7,8]"
   ]
  },
  {
   "cell_type": "code",
   "execution_count": 4,
   "id": "82ed7666-2ba7-4c93-911d-fe8594a024e1",
   "metadata": {},
   "outputs": [
    {
     "name": "stdout",
     "output_type": "stream",
     "text": [
      "[1, 2, 3, 4, 5, 6, 7, 8]\n"
     ]
    }
   ],
   "source": [
    "li=[1,2,3,4]\n",
    "l2=[5,6,7,8]\n",
    "li.extend(l2)\n",
    "print(li)"
   ]
  },
  {
   "cell_type": "markdown",
   "id": "bd984f67-2274-44c1-b930-fb83b7909d76",
   "metadata": {},
   "source": [
    "### Q4) Write a program to replace an item with a different item if found in the list \n",
    "L = [1,2,3,4,5,3]\n",
    "#### replace 3 with 300"
   ]
  },
  {
   "cell_type": "code",
   "execution_count": 5,
   "id": "0eedabc9-c77f-46ce-82f0-74547d7d1511",
   "metadata": {},
   "outputs": [
    {
     "name": "stdout",
     "output_type": "stream",
     "text": [
      "[1, 2, 300, 4, 5, 300]\n"
     ]
    }
   ],
   "source": [
    "l=[1,2,3,4,5,3]\n",
    "for i in range(0,6):\n",
    "    if l[i]==3:\n",
    "        l[i]=300\n",
    "\n",
    "print(l)"
   ]
  },
  {
   "cell_type": "markdown",
   "id": "b9370dda-08a5-43aa-956f-853e2f6d73f6",
   "metadata": {},
   "source": [
    "\n",
    "## Q5)Write a program that can convert a 2D list to 1D list"
   ]
  },
  {
   "cell_type": "code",
   "execution_count": 6,
   "id": "9e66d7e3-86f8-4fc1-b60a-ec620ac5b78a",
   "metadata": {},
   "outputs": [
    {
     "name": "stdout",
     "output_type": "stream",
     "text": [
      "[1, 2, 3, 4, 5, 6]\n"
     ]
    }
   ],
   "source": [
    "l=[[1],[2],[3],[4],[5],[6]]\n",
    "l1=[]\n",
    "for i in l:\n",
    "    for temp in i:\n",
    "        l1.append(temp)\n",
    "\n",
    "print(l1)\n",
    "        "
   ]
  },
  {
   "cell_type": "markdown",
   "id": "87854ea9-112a-4c54-ac9a-ea44c6dd2d40",
   "metadata": {},
   "source": [
    "## Q6)Write a program to remove duplicate items from a list\n",
    "\n",
    "L = [1,2,1,2,3,4,5,3,4]"
   ]
  },
  {
   "cell_type": "code",
   "execution_count": 50,
   "id": "d78ab473-6082-4ea1-b694-b5d38c3ac95e",
   "metadata": {},
   "outputs": [
    {
     "name": "stdout",
     "output_type": "stream",
     "text": [
      "Original list:  [1, 2, 1, 2, 3, 4, 5, 3, 4]\n",
      "[1, 2, 3, 4, 5]\n"
     ]
    }
   ],
   "source": [
    "l=[1,2,1,2,3,4,5,3,4]\n",
    "print(\"Original list: \",l)\n",
    "l1=list(set(l))\n",
    "print(l1)"
   ]
  },
  {
   "cell_type": "markdown",
   "id": "cb84505a-e943-4a70-af9f-7d02f2421a37",
   "metadata": {},
   "source": [
    "## Q7) Write a program to check if a list is in ascending order or not"
   ]
  },
  {
   "cell_type": "code",
   "execution_count": 57,
   "id": "486488e8-27df-4df0-b5d6-931e83a0399b",
   "metadata": {},
   "outputs": [
    {
     "name": "stdout",
     "output_type": "stream",
     "text": [
      "Original list:  [1, 2, 3, 4, 6]\n",
      "sorted\n"
     ]
    }
   ],
   "source": [
    "l1=[1,2,3,4,6]\n",
    "print(\"Original list: \",l1)\n",
    "temp=0\n",
    "l2=l1[:]\n",
    "l2.sort()\n",
    "if l2==l1:\n",
    "    temp=1\n",
    "if (temp):\n",
    "    print(\"sorted\")\n",
    "else:\n",
    "    print(\"List is not in ascending\")\n",
    "\n"
   ]
  },
  {
   "cell_type": "code",
   "execution_count": null,
   "id": "fefb07aa-7684-4389-8094-53f9bbbfdc54",
   "metadata": {},
   "outputs": [],
   "source": [
    "list()"
   ]
  },
  {
   "cell_type": "code",
   "execution_count": null,
   "id": "8ad19547-fd8e-448b-ab26-b5820928a548",
   "metadata": {},
   "outputs": [],
   "source": []
  },
  {
   "cell_type": "code",
   "execution_count": null,
   "id": "07aafbe4-fba7-40bf-bb00-04f4a3a4db55",
   "metadata": {},
   "outputs": [],
   "source": []
  }
 ],
 "metadata": {
  "kernelspec": {
   "display_name": "Python 3 (ipykernel)",
   "language": "python",
   "name": "python3"
  },
  "language_info": {
   "codemirror_mode": {
    "name": "ipython",
    "version": 3
   },
   "file_extension": ".py",
   "mimetype": "text/x-python",
   "name": "python",
   "nbconvert_exporter": "python",
   "pygments_lexer": "ipython3",
   "version": "3.11.7"
  }
 },
 "nbformat": 4,
 "nbformat_minor": 5
}
